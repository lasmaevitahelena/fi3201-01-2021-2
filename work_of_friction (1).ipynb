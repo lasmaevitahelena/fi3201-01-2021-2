{
 "cells": [
  {
   "cell_type": "code",
   "execution_count": null,
   "id": "ec80e455",
   "metadata": {},
   "outputs": [],
   "source": [
    "#Nama : Lasma Evita Helena \n",
    "#Email : lasmaevitahelena8@gmail.com\n",
    "#Link GitHub : https://github.com/lasmaevitahelena/fi3201-01-2021-2?organization=lasmaevitahelena&organization=lasmaevitahelena atau untuk U2 https://github.com/lasmaevitahelena/2021-2-fi3201-01-u2/tree/main/que/10200000"
   ]
  }
 ],
 "metadata": {
  "kernelspec": {
   "display_name": "Python 3 (ipykernel)",
   "language": "python",
   "name": "python3"
  },
  "language_info": {
   "codemirror_mode": {
    "name": "ipython",
    "version": 3
   },
   "file_extension": ".py",
   "mimetype": "text/x-python",
   "name": "python",
   "nbconvert_exporter": "python",
   "pygments_lexer": "ipython3",
   "version": "3.10.4"
  }
 },
 "nbformat": 4,
 "nbformat_minor": 5
}
